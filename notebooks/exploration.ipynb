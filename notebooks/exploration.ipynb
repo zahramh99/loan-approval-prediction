{
 "cells": [
  {
   "cell_type": "code",
   "execution_count": null,
   "metadata": {},
   "outputs": [],
   "source": [
    "# Loan Approval Prediction - Exploratory Analysis\n",
    "\n",
    "## 1. Data Loading\n",
    "import pandas as pd\n",
    "from src.utils import load_data\n",
    "\n",
    "df = load_data('../data/loan_prediction.csv')"
   ]
  }
 ],
 "metadata": {
  "language_info": {
   "name": "python"
  },
  "orig_nbformat": 4
 },
 "nbformat": 4,
 "nbformat_minor": 2
}
